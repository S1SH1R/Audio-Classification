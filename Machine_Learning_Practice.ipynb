{
 "cells": [
  {
   "cell_type": "markdown",
   "metadata": {
    "deletable": false,
    "editable": false,
    "nbgrader": {
     "cell_type": "markdown",
     "checksum": "a3e2313b92503c14904e918962fae940",
     "grade": false,
     "grade_id": "cell-5d5c309d3287bcdd",
     "locked": true,
     "schema_version": 3,
     "solution": false,
     "task": false
    }
   },
   "source": [
    "## Classifying speakers from raw audio\n",
    "\n",
    "\n",
    "<div class=\"alert alert-success\">\n",
    "\n",
    "### The task\n",
    "    \n",
    "In this assignment, you will use Python to apply machine learning techniques to audio data. **The task is, given an audio clip from one of two speakers, use a classifier to predict the speaker.**\n",
    "\n",
    "Why is this useful? Consider multiple people living together with a smart speaker device in one of the rooms. If someone asks the smart speaker what meetings they have on that day, the smart speaker must identify who is speaking before consulting their calendar.\n",
    "\n",
    "To solve this task, you will first convert audio from time to frequency using the Fast Fourier transform, and then perform Principal Component Analysis (PCA) to bring the dimensionality of the data down from 4001D to 2D so that it can be visualised. Then, you will apply $k$-nearest neighbours ($k$-NN) and a linear classifier and compare their performance.\n",
    "   \n",
    "\n",
    "### The format \n",
    "\n",
    "The assignment takes the form of a Python notebook and we expect this to take you around 4 hours. As you work through the notebook, there will be **blank cells where you need to code up solutions to problems.** The number of marks available is given after each question. \n",
    "\n",
    "**Marks are given for both solving the problems, and for well-commented code. There are 20 marks in total.**\n",
    "\n",
    "\n",
    "You should code up your answers in the blank cells partitioned using blue lines, like this:\n",
    "\n",
    "<hr style=\"border:2px solid blue\"> </hr>\n",
    "\n",
    "**Write your code in the box between the blue lines.**\n",
    "\n",
    "<hr style=\"border:2px solid blue\"> </hr>\n",
    "\n",
    "When you are done, save the notebook and submit your assignment through the \"Assignments\" tab on Notable. See https://media.ed.ac.uk/media/Student%20Guide%20to%20using%20Noteable%20for%20Assingments/1_3zkxza4m for a video showing you how to do this.\n",
    "\n",
    "\n",
    "\n",
    "\n",
    "</div>\n",
    "<div class=\"alert alert-danger\">\n",
    "<b>Before you submit, ensure that the notebook can be run from start to finish by pressing the \"Restart & Run All\" option in the \"Kernel\" menu above. If the code doesn't run then you will not be awarded any marks.</b>\n",
    "</div>\n",
    "<hr style=\"border:2px solid black\"> </hr>\n",
    "\n",
    "\n",
    "This assignment has 4 sections. **You are strongly encouraged to reuse, and build on code provided in the course notebook**. This assignment should be an exercise in doing useful things with data, rather than a test of your coding ability.\n",
    "\n",
    "\n",
    "These sections are:\n",
    "\n",
    "1. Representing data\n",
    "2. Principal Component Analysis\n",
    "3. $k$-Nearest Neighbour classification\n",
    "4. Linear classification"
   ]
  },
  {
   "cell_type": "markdown",
   "metadata": {
    "deletable": false,
    "editable": false,
    "nbgrader": {
     "cell_type": "markdown",
     "checksum": "1f4d74c7fd98c8cde7d0c177dd98641a",
     "grade": false,
     "grade_id": "cell-c8250e27608ca583",
     "locked": true,
     "schema_version": 3,
     "solution": false,
     "task": false
    }
   },
   "source": [
    "### 1. Representing Audio Data\n",
    "We will represent each data point as a vector $\\mathbf{x}\\in \\mathbb{R}^{D}$. This means we have a vector that consists of $D$ real numbers. We can use **NumPy arrays** to represent these vectors. Let's create an example array:"
   ]
  },
  {
   "cell_type": "code",
   "execution_count": 1,
   "metadata": {
    "deletable": false,
    "editable": false,
    "nbgrader": {
     "cell_type": "code",
     "checksum": "5213343a1a94821e4f255bf469058018",
     "grade": false,
     "grade_id": "cell-4a57d456dc689380",
     "locked": true,
     "schema_version": 3,
     "solution": false,
     "task": false
    }
   },
   "outputs": [
    {
     "name": "stdout",
     "output_type": "stream",
     "text": [
      "We have created x which looks like [1 2 3]\n",
      "It has 3 elements\n"
     ]
    }
   ],
   "source": [
    "# Import the numpy package\n",
    "import numpy as np\n",
    "\n",
    "# This creates a NumPy array which represents a 3D vector\n",
    "x = np.array([1, 2, 3])\n",
    "\n",
    "print(f\"We have created x which looks like {x}\")\n",
    "print(f\"It has {len(x)} elements\")"
   ]
  },
  {
   "cell_type": "markdown",
   "metadata": {
    "deletable": false,
    "editable": false,
    "nbgrader": {
     "cell_type": "markdown",
     "checksum": "169e65bfe9fb157477032217da3bf19d",
     "grade": false,
     "grade_id": "cell-a077b99336b00180",
     "locked": true,
     "schema_version": 3,
     "solution": false,
     "task": false
    }
   },
   "source": [
    "We can use indexing to grab individual elements. **Remember in Python we count from 0.**"
   ]
  },
  {
   "cell_type": "code",
   "execution_count": 2,
   "metadata": {
    "deletable": false,
    "editable": false,
    "nbgrader": {
     "cell_type": "code",
     "checksum": "7758d689ebe458347c9b90f44eab1629",
     "grade": false,
     "grade_id": "cell-62416df4e3e52924",
     "locked": true,
     "schema_version": 3,
     "solution": false,
     "task": false
    }
   },
   "outputs": [
    {
     "name": "stdout",
     "output_type": "stream",
     "text": [
      "The 0th element in x is 1\n"
     ]
    }
   ],
   "source": [
    "print(f\"The 0th element in x is {x[0]}\")"
   ]
  },
  {
   "cell_type": "markdown",
   "metadata": {
    "deletable": false,
    "editable": false,
    "nbgrader": {
     "cell_type": "markdown",
     "checksum": "fd3611f0d2ca6c474329f81403d38215",
     "grade": false,
     "grade_id": "cell-54063c54a3befc7d",
     "locked": true,
     "schema_version": 3,
     "solution": false,
     "task": false
    }
   },
   "source": [
    "We can represent lots of things in this manner. In this assignment we will consider **audio signals**."
   ]
  },
  {
   "cell_type": "markdown",
   "metadata": {
    "deletable": false,
    "editable": false,
    "nbgrader": {
     "cell_type": "markdown",
     "checksum": "2b3ea6a20d5d0b7d68ecacd12598651a",
     "grade": false,
     "grade_id": "cell-a02acc47b5aab99e",
     "locked": true,
     "schema_version": 3,
     "solution": false,
     "task": false
    }
   },
   "source": [
    "#### 1a. Representing Audio in time"
   ]
  },
  {
   "cell_type": "markdown",
   "metadata": {
    "deletable": false,
    "editable": false,
    "nbgrader": {
     "cell_type": "markdown",
     "checksum": "76da6a990e5dc786ee869f01dccd2acf",
     "grade": false,
     "grade_id": "cell-2b3b03c90ef0a6df",
     "locked": true,
     "schema_version": 3,
     "solution": false,
     "task": false
    }
   },
   "source": [
    "Audio can be encoded in multiple formats e.g. mp3, mp4. A common format is wav. The SciPy library has functions for reading in `.wav` files as NumPy arrays. We will now read in an audio clip of someone speaking.\n",
    "\n"
   ]
  },
  {
   "cell_type": "code",
   "execution_count": 3,
   "metadata": {
    "deletable": false,
    "editable": false,
    "nbgrader": {
     "cell_type": "code",
     "checksum": "051ea40d559a9ad8de7b7428ef4201e0",
     "grade": false,
     "grade_id": "cell-dea92282cbf00932",
     "locked": true,
     "schema_version": 3,
     "solution": false,
     "task": false
    }
   },
   "outputs": [],
   "source": [
    "# Matplotlib for plotting and scipy for reading audio\n",
    "import matplotlib.pyplot as plt\n",
    "from scipy.io import wavfile as wav\n",
    "\n",
    "# Read in a wav file\n",
    "rate, data = wav.read(\"recordings/7_jackson_30.wav\")"
   ]
  },
  {
   "cell_type": "markdown",
   "metadata": {
    "deletable": false,
    "editable": false,
    "nbgrader": {
     "cell_type": "markdown",
     "checksum": "d7339b46c5dc59ccf0a596b636bee18c",
     "grade": false,
     "grade_id": "cell-82f89be34e9e0917",
     "locked": true,
     "schema_version": 3,
     "solution": false,
     "task": false
    }
   },
   "source": [
    "We have now got two variables called `rate` and `data` by reading a `.wav` file.\n",
    "\n",
    "`rate` is the sample rate of the audio signal. When you hear audio through a computer, although it sounds continous, it is actually **discrete**. The sample rate is the frequency at which the audio was recorded."
   ]
  },
  {
   "cell_type": "code",
   "execution_count": 4,
   "metadata": {
    "deletable": false,
    "editable": false,
    "nbgrader": {
     "cell_type": "code",
     "checksum": "1431a24740622d3db7cb2c4a32039c0c",
     "grade": false,
     "grade_id": "cell-a8a934343bda72d8",
     "locked": true,
     "schema_version": 3,
     "solution": false,
     "task": false
    }
   },
   "outputs": [
    {
     "name": "stdout",
     "output_type": "stream",
     "text": [
      "The sample rate is 8000 Hz\n"
     ]
    }
   ],
   "source": [
    "print(f\"The sample rate is {rate} Hz\")"
   ]
  },
  {
   "cell_type": "markdown",
   "metadata": {
    "deletable": false,
    "editable": false,
    "nbgrader": {
     "cell_type": "markdown",
     "checksum": "d3780b18a98f039d635b2dad5c47cf32",
     "grade": false,
     "grade_id": "cell-c74799deead83633",
     "locked": true,
     "schema_version": 3,
     "solution": false,
     "task": false
    }
   },
   "source": [
    "`data` is a vector represented by a NumPy array. Let's see how many elements it has, and listen to the sample."
   ]
  },
  {
   "cell_type": "code",
   "execution_count": 5,
   "metadata": {
    "deletable": false,
    "editable": false,
    "nbgrader": {
     "cell_type": "code",
     "checksum": "179ae57da8914330c6ddfd1801f096fc",
     "grade": false,
     "grade_id": "cell-30e8889714d84de3",
     "locked": true,
     "schema_version": 3,
     "solution": false,
     "task": false
    }
   },
   "outputs": [
    {
     "name": "stdout",
     "output_type": "stream",
     "text": [
      "data has 3706 elements.\n"
     ]
    },
    {
     "data": {
      "text/html": [
       "\n",
       "                <audio  controls=\"controls\" >\n",
       "                    <source src=\"data:audio/wav;base64,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\" type=\"audio/wav\" />\n",
       "                    Your browser does not support the audio element.\n",
       "                </audio>\n",
       "              "
      ],
      "text/plain": [
       "<IPython.lib.display.Audio object>"
      ]
     },
     "execution_count": 5,
     "metadata": {},
     "output_type": "execute_result"
    }
   ],
   "source": [
    "from IPython.display import Audio\n",
    "\n",
    "print(f'data has {len(data)} elements.')\n",
    "Audio(data, rate=rate)\n"
   ]
  },
  {
   "cell_type": "markdown",
   "metadata": {
    "deletable": false,
    "editable": false,
    "nbgrader": {
     "cell_type": "markdown",
     "checksum": "adf6e0f037911c76f80a717025152037",
     "grade": false,
     "grade_id": "cell-2670580dc01d7894",
     "locked": true,
     "schema_version": 3,
     "solution": false,
     "task": false
    }
   },
   "source": [
    "Each of these elements corresponds to a **sample**.\n",
    "\n",
    "The 0th element is a sample at 0 seconds. The sample rate is 8000Hz which means there are $\\frac{1}{8000}$ seconds between each sample.\n",
    "\n",
    "It follows that the 1st element is a sample at $\\frac{1}{8000}$ seconds , the 2nd element is a sample at $\\frac{2}{8000}$ seconds and so on. \n",
    "\n",
    "What exactly is being sampled? It's the **magnitude** of the audio -- how loud it is!\n"
   ]
  },
  {
   "cell_type": "code",
   "execution_count": 6,
   "metadata": {
    "deletable": false,
    "editable": false,
    "nbgrader": {
     "cell_type": "code",
     "checksum": "c178b1f5afa6bb6a70667811258c2faf",
     "grade": false,
     "grade_id": "cell-23f0894d93b14d2d",
     "locked": true,
     "schema_version": 3,
     "solution": false,
     "task": false
    }
   },
   "outputs": [
    {
     "name": "stdout",
     "output_type": "stream",
     "text": [
      "The magnitude of the 100th sample is -579\n",
      "The magnitude of the 1000th sample is -1068\n"
     ]
    }
   ],
   "source": [
    "print(f\"The magnitude of the 100th sample is {data[100]}\")\n",
    "print(f\"The magnitude of the 1000th sample is {data[1000]}\")"
   ]
  },
  {
   "cell_type": "markdown",
   "metadata": {
    "deletable": false,
    "editable": false,
    "nbgrader": {
     "cell_type": "markdown",
     "checksum": "1427679848d36b6e6145a8788becc936",
     "grade": false,
     "grade_id": "cell-65156ff3fb5962ef",
     "locked": true,
     "schema_version": 3,
     "solution": false,
     "task": false
    }
   },
   "source": [
    "Why are we getting large negative numbers? This is down to how the audio was encoded (there exist many formats within wav). For our purposes this **isn't important** as we are interested in relative values."
   ]
  },
  {
   "cell_type": "markdown",
   "metadata": {
    "deletable": false,
    "editable": false,
    "nbgrader": {
     "cell_type": "markdown",
     "checksum": "a5761a5c78044c02c34046143c53e783",
     "grade": false,
     "grade_id": "cell-7b8c764f833e8c78",
     "locked": true,
     "schema_version": 3,
     "solution": false,
     "task": false
    }
   },
   "source": [
    "\n",
    "<hr style=\"border:2px solid blue\"> </hr>\n",
    "\n",
    "\n",
    "**Q1: Write code to calculate the length of this audio clip (in seconds), given `rate` and `data`. Assign this length this to a variable called `time`.**\n",
    "\n",
    "**[2 marks]**\n",
    "\n"
   ]
  },
  {
   "cell_type": "code",
   "execution_count": 7,
   "metadata": {
    "deletable": false,
    "nbgrader": {
     "cell_type": "code",
     "checksum": "1327a9cfffc72ffaf7b0947168ca9407",
     "grade": false,
     "grade_id": "q1",
     "locked": false,
     "schema_version": 3,
     "solution": true,
     "task": false
    }
   },
   "outputs": [],
   "source": [
    "\"\"\"Write your solution here. You must use the correct variable name to get marks.\"\"\"\n",
    "time = len(data)/rate"
   ]
  },
  {
   "cell_type": "code",
   "execution_count": 8,
   "metadata": {
    "deletable": false,
    "editable": false,
    "nbgrader": {
     "cell_type": "code",
     "checksum": "32225c6d976bb7a394705cd6932e2469",
     "grade": true,
     "grade_id": "q1_test",
     "locked": true,
     "points": 2,
     "schema_version": 3,
     "solution": false,
     "task": false
    }
   },
   "outputs": [
    {
     "name": "stdout",
     "output_type": "stream",
     "text": [
      "time = 0.46325s\n"
     ]
    }
   ],
   "source": [
    "\"\"\"You can run this cell to check your answer\"\"\"\n",
    "try:\n",
    "    print(f\"time = {time}s\")\n",
    "except NameError:\n",
    "    print(\"The variable time does not exist\")\n"
   ]
  },
  {
   "cell_type": "markdown",
   "metadata": {
    "deletable": false,
    "editable": false,
    "nbgrader": {
     "cell_type": "markdown",
     "checksum": "1af407a64029dbf1d3f60a701a6bffe6",
     "grade": false,
     "grade_id": "cell-0e1a8b16183c8cc3",
     "locked": true,
     "schema_version": 3,
     "solution": false,
     "task": false
    }
   },
   "source": [
    "<hr style=\"border:2px solid blue\"> </hr>\n"
   ]
  },
  {
   "cell_type": "markdown",
   "metadata": {
    "deletable": false,
    "editable": false,
    "nbgrader": {
     "cell_type": "markdown",
     "checksum": "0e0e4233457e99a326429d8b0dec9503",
     "grade": false,
     "grade_id": "cell-c0676465237c8db5",
     "locked": true,
     "schema_version": 3,
     "solution": false,
     "task": false
    }
   },
   "source": [
    "Let's plot our audio magnitudes against time."
   ]
  },
  {
   "cell_type": "code",
   "execution_count": 9,
   "metadata": {
    "deletable": false,
    "editable": false,
    "nbgrader": {
     "cell_type": "code",
     "checksum": "b903e7480069ff14aee1f2dfe3a5d498",
     "grade": false,
     "grade_id": "cell-c989c6dcaad262c4",
     "locked": true,
     "schema_version": 3,
     "solution": false,
     "task": false
    }
   },
   "outputs": [
    {
     "data": {
      "text/plain": [
       "Text(0.5, 1.0, 'Speech Sample')"
      ]
     },
     "execution_count": 9,
     "metadata": {},
     "output_type": "execute_result"
    },
    {
     "data": {
      "image/png": "[encoded data removed]",
      "text/plain": [
       "<Figure size 432x288 with 1 Axes>"
      ]
     },
     "metadata": {
      "needs_background": "light"
     },
     "output_type": "display_data"
    }
   ],
   "source": [
    "plt.plot(np.linspace(0, time, len(data)), data, \"k\")  # Plot data against time values.\n",
    "plt.xlabel(\"Time (s)\")  # Add x label\n",
    "plt.ylabel(\"Magnitude\")  # Add y label\n",
    "plt.xticks(size=10)  # Make ticks bigger\n",
    "plt.yticks(size=10)  # Make ticks bigger\n",
    "plt.grid()  # Add a grid\n",
    "plt.title(\"Speech Sample\")  # Add a title"
   ]
  },
  {
   "cell_type": "markdown",
   "metadata": {
    "deletable": false,
    "editable": false,
    "nbgrader": {
     "cell_type": "markdown",
     "checksum": "27827c67d91bb569970990fa76c7def3",
     "grade": false,
     "grade_id": "cell-80604e9c08c891ff",
     "locked": true,
     "schema_version": 3,
     "solution": false,
     "task": false
    }
   },
   "source": [
    "#### 1b. Representing Audio in frequency"
   ]
  },
  {
   "cell_type": "markdown",
   "metadata": {
    "deletable": false,
    "editable": false,
    "nbgrader": {
     "cell_type": "markdown",
     "checksum": "e949783bf33924c8cd9086a0c8e5fb81",
     "grade": false,
     "grade_id": "cell-8f9dae57a6f6dd5e",
     "locked": true,
     "schema_version": 3,
     "solution": false,
     "task": false
    }
   },
   "source": [
    "We can use the Fast Fourier Transform (FFT) to convert our signal in time into a signal in frequency. This is a more robust representation for speaker classification. Imagine for instance, the same audio clip but delayed by a few seconds. It would look very different in time, but would still have the same frequency components.\n",
    "\n",
    "We can perform this in SciPy using `rfft`. We wil then take the magnitude of this transformation as we are not interested in phase for our purposes.\n"
   ]
  },
  {
   "cell_type": "code",
   "execution_count": 10,
   "metadata": {
    "deletable": false,
    "editable": false,
    "nbgrader": {
     "cell_type": "code",
     "checksum": "3c3546638f81f69b0de4f2f6b8c49977",
     "grade": false,
     "grade_id": "cell-1d4cbf9a1dffb71d",
     "locked": true,
     "schema_version": 3,
     "solution": false,
     "task": false
    }
   },
   "outputs": [
    {
     "name": "stdout",
     "output_type": "stream",
     "text": [
      "We now have our data in frequency. It has 4001 elements.\n",
      "[1908.          808.82418808 2899.0533111  ... 1909.03267439 2381.32821474\n",
      " 2414.        ]\n"
     ]
    }
   ],
   "source": [
    "from scipy.fft import rfft  # SciPy lets us do a fast Fourier Transform (FFT)\n",
    "\n",
    "data_freq = rfft(data, n=rate)  # Take the real FFT of our data.\n",
    "data_freq = np.abs(data_freq)  # We're interested in the magnitude.\n",
    "\n",
    "print(f\"We now have our data in frequency. It has {len(data_freq)} elements.\")\n",
    "print(data_freq)"
   ]
  },
  {
   "cell_type": "markdown",
   "metadata": {
    "deletable": false,
    "editable": false,
    "nbgrader": {
     "cell_type": "markdown",
     "checksum": "20d4dc74cfb7da826323a91ff613e328",
     "grade": false,
     "grade_id": "cell-c6c02fa674444131",
     "locked": true,
     "schema_version": 3,
     "solution": false,
     "task": false
    }
   },
   "source": [
    "We have transformed a vector of magnitudes at time points into a vector of magnitudes at frequencies. But what are these frequencies exactly? Well, the Nyquist–Shannon sampling theorem tells us that if we sample at frequency $f$, then we are able to observe frequencies up to $f/2$.\n",
    "\n",
    "We know that our audio clip was sampled at 8000Hz, so with the FFT we are observing frequencies up to 4000Hz. We input the sample rate to `rfft` and it has returned a 4001-D output. The elements of this output are the magnitudes of the frequencies at 0Hz, 1Hz, 2Hz, ... all the way up to 4000Hz. Let's plot this signal:"
   ]
  },
  {
   "cell_type": "code",
   "execution_count": 11,
   "metadata": {
    "deletable": false,
    "editable": false,
    "nbgrader": {
     "cell_type": "code",
     "checksum": "b4aa362c97bb8f5957ee9c2f5a9aeca9",
     "grade": false,
     "grade_id": "cell-f11c2874c7a14e8b",
     "locked": true,
     "schema_version": 3,
     "solution": false,
     "task": false
    }
   },
   "outputs": [
    {
     "data": {
      "text/plain": [
       "Text(0.5, 1.0, 'FFT of Speech Sample')"
      ]
     },
     "execution_count": 11,
     "metadata": {},
     "output_type": "execute_result"
    },
    {
     "data": {
      "image/png": "[encoded data removed]",
      "text/plain": [
       "<Figure size 432x288 with 1 Axes>"
      ]
     },
     "metadata": {
      "needs_background": "light"
     },
     "output_type": "display_data"
    }
   ],
   "source": [
    "# Get all the individual frequencies for which there are magnitudes. 0-4000Hz inclusive.\n",
    "freq_values = np.linspace(0, len(data_freq) - 1, len(data_freq))\n",
    "\n",
    "plt.plot(freq_values, data_freq, \"k\")  # Plot this against their magnitudes.\n",
    "plt.xlabel(\"Frequency (Hz)\")  # Add x label\n",
    "plt.ylabel(\"Magnitude\")  # Add y label\n",
    "plt.xticks(size=10)  # Make ticks bigger\n",
    "plt.yticks(size=10)  # Make ticks bigger\n",
    "plt.grid()  # Add a grid\n",
    "plt.title(\"FFT of Speech Sample\")  # Add a title\n"
   ]
  },
  {
   "cell_type": "markdown",
   "metadata": {
    "deletable": false,
    "editable": false,
    "nbgrader": {
     "cell_type": "markdown",
     "checksum": "3cc9445c1f6004c852a8daffac2a5486",
     "grade": false,
     "grade_id": "cell-b95d49b5bb4ef031",
     "locked": true,
     "schema_version": 3,
     "solution": false,
     "task": false
    }
   },
   "source": [
    "<hr style=\"border:2px solid blue\"> </hr>\n",
    "\n",
    "\n",
    "**Q2: Which frequency has the largest magnitude and what is this magnitude? Assign your answers to the variables `dominant_frequency` and `magnitude` respectively.**\n",
    "\n",
    "**[2 marks]**"
   ]
  },
  {
   "cell_type": "code",
   "execution_count": 12,
   "metadata": {
    "deletable": false,
    "nbgrader": {
     "cell_type": "code",
     "checksum": "96e5f6ab31733225aead0e84e5804959",
     "grade": false,
     "grade_id": "q2",
     "locked": false,
     "schema_version": 3,
     "solution": true,
     "task": false
    }
   },
   "outputs": [],
   "source": [
    "\"\"\"Write your solution here. You must use the correct variable names to get marks.\"\"\"\n",
    "magnitude = np.max(data_freq) # np.max method to find largest magnitude value\n",
    "dominant_frequency = np.argmax(data_freq) # np.argmax method to find the index"
   ]
  },
  {
   "cell_type": "code",
   "execution_count": 13,
   "metadata": {
    "deletable": false,
    "editable": false,
    "nbgrader": {
     "cell_type": "code",
     "checksum": "46100f54ba85dfb3f4aedd9ff5e5e2b2",
     "grade": true,
     "grade_id": "q2_test1",
     "locked": true,
     "points": 1,
     "schema_version": 3,
     "solution": false,
     "task": false
    }
   },
   "outputs": [
    {
     "name": "stdout",
     "output_type": "stream",
     "text": [
      "dominant_frequency = 466Hz\n"
     ]
    }
   ],
   "source": [
    "\"\"\"You can run this cell to check your dominant_frequency\"\"\"\n",
    "try:\n",
    "    print(f\"dominant_frequency = {dominant_frequency}Hz\")\n",
    "except NameError:\n",
    "    print(\"The variable dominant_frequency does not exist\")\n"
   ]
  },
  {
   "cell_type": "code",
   "execution_count": 14,
   "metadata": {
    "deletable": false,
    "editable": false,
    "nbgrader": {
     "cell_type": "code",
     "checksum": "64247912c51966bf67fe27bd5704dbe3",
     "grade": true,
     "grade_id": "q2_test2",
     "locked": true,
     "points": 1,
     "schema_version": 3,
     "solution": false,
     "task": false
    }
   },
   "outputs": [
    {
     "name": "stdout",
     "output_type": "stream",
     "text": [
      "magnitude = 1511852.6589905089\n"
     ]
    }
   ],
   "source": [
    "\"\"\"You can run this cell to check your magnitude\"\"\"\n",
    "try:\n",
    "    print(f\"magnitude = {magnitude}\")\n",
    "except NameError:\n",
    "    print(\"The variable magnitude does not exist\")\n"
   ]
  },
  {
   "cell_type": "markdown",
   "metadata": {
    "deletable": false,
    "editable": false,
    "nbgrader": {
     "cell_type": "markdown",
     "checksum": "dafcfb7540f9a7e9711f43dc91173d4f",
     "grade": false,
     "grade_id": "cell-c72fa154c1453841",
     "locked": true,
     "schema_version": 3,
     "solution": false,
     "task": false
    }
   },
   "source": [
    "<hr style=\"border:2px solid blue\"> </hr>"
   ]
  },
  {
   "cell_type": "code",
   "execution_count": 15,
   "metadata": {
    "deletable": false,
    "editable": false,
    "nbgrader": {
     "cell_type": "code",
     "checksum": "082d49da50ce71b3d68175780d059799",
     "grade": false,
     "grade_id": "cell-50abe1166128ab3a",
     "locked": true,
     "schema_version": 3,
     "solution": false,
     "task": false
    }
   },
   "outputs": [],
   "source": [
    "def fft_from_audio(filename):\n",
    "    \"\"\"This function will take in a wav file and output its FFT.\"\"\"\n",
    "    rate, data = wav.read(filename)  # Read file\n",
    "    data_freq = rfft(data, n=rate)  # Take the real FFT of our data.\n",
    "    data_freq = np.abs(data_freq)  # We're interested in the magnitude\n",
    "    return data_freq\n",
    "\n",
    "\n",
    "# Create arrays to store data points and labels\n",
    "X = np.zeros((1000, 4001))  # Zero array to store vectors\n",
    "y = np.zeros((1000))  # Zero array to store labels\n",
    "\n",
    "# Don't worry too much about this next series of loops.\n",
    "# It is just a crude way of grabbing all the files by speaker.\n",
    "running_index=0\n",
    "for speaker in ['george', 'jackson']:\n",
    "    for num in range(10):\n",
    "        for file in range(50):\n",
    "            X[running_index] = fft_from_audio(f'recordings/{num}_{speaker}_{file}.wav') # Read in wav file\n",
    "            if speaker == 'george':\n",
    "                y[running_index] = 0\n",
    "            elif speaker == 'jackson':\n",
    "                y[running_index] = 1\n",
    "            running_index+=1 \n"
   ]
  },
  {
   "cell_type": "markdown",
   "metadata": {
    "deletable": false,
    "editable": false,
    "nbgrader": {
     "cell_type": "markdown",
     "checksum": "e2f0c45d2b4d3109802708d48fe0d64e",
     "grade": false,
     "grade_id": "cell-e838c6a8e96d6874",
     "locked": true,
     "schema_version": 3,
     "solution": false,
     "task": false
    }
   },
   "source": [
    "#### 1c. Making a dataset\n",
    "\n",
    "So far we have read in a single audio clip, and take its Fast Fourier transform (FFT) to convert it into a vector of frequencies. \n",
    "\n",
    "We will now perform this transformation for multiple audio clips to form a **dataset** for machine learning. This means we want to create a matrix $\\mathbf{X}\\in \\mathbb{R}^{N\\times D}$ where each row $n$ is a datapoint $\\mathbf{x}^{(n)}\\in \\mathbb{R}^{D}$. Each data point will be the FFT of an audio sample, and will have a dimensionality $D = 4001$. \n",
    "\n",
    "In this assignment we are interested in learning a classifier to tell apart two speakers: George and Jackson. We will now take the FFT of audio clips of George and Jackson and store them in a dataset matrix $\\mathbf{X}\\in \\mathbb{R}^{1000\\times 4001}$ (there are 1000 data points). We will also create a vector $\\mathbf{y}$ where each element $y^{(n)} \\in \\{0,1\\}$ indicates the speaker of $\\mathbf{x}^{(n)}$.\n",
    "\n",
    "**We will assign George to class 0 and Jackson to class 1**."
   ]
  },
  {
   "cell_type": "markdown",
   "metadata": {
    "deletable": false,
    "editable": false,
    "nbgrader": {
     "cell_type": "markdown",
     "checksum": "602a2a475538de61c19b7492a47e67a4",
     "grade": false,
     "grade_id": "cell-6c0c54d104fd4220",
     "locked": true,
     "schema_version": 3,
     "solution": false,
     "task": false
    }
   },
   "source": [
    "We now have a data matrix $\\mathbf{X}\\in \\mathbb{R}^{1000\\times 4001}$. This means it contains 1000 data points, each of dimensionality 4001. Remember that each of these is the FFT of an audio signal.\n",
    "\n",
    "Our vector $\\mathbf{y}$ stores the labels for each data point. If we consider an index `n` this means that if `y[n]` is 1 then `X[n]` is a clip from Jackson, and if `y[n]` is 0 then `X[n]` is from George.\n",
    "\n",
    "Let's plot some George samples and some Jackson samples to see how they differ."
   ]
  },
  {
   "cell_type": "code",
   "execution_count": 16,
   "metadata": {
    "deletable": false,
    "editable": false,
    "nbgrader": {
     "cell_type": "code",
     "checksum": "c6a0653a5fdfe12cbc22d4866e795b37",
     "grade": false,
     "grade_id": "cell-15650f8584a4012f",
     "locked": true,
     "schema_version": 3,
     "solution": false,
     "task": false
    }
   },
   "outputs": [
    {
     "data": {
      "image/png": "[encoded data removed]",
      "text/plain": [
       "<Figure size 432x288 with 8 Axes>"
      ]
     },
     "metadata": {
      "needs_background": "light"
     },
     "output_type": "display_data"
    }
   ],
   "source": [
    "george_samples = np.where(y == 0)[\n",
    "    0\n",
    "]  # Find entries in y that are equal to 0 (and are therefore George)\n",
    "jackson_samples = np.where(y == 1)[\n",
    "    0\n",
    "]  # Find entries in y that are equal to 1 (and are therefore Jackson)\n",
    "\n",
    "# Shuffle these for variety\n",
    "np.random.seed(42)\n",
    "np.random.shuffle(george_samples)\n",
    "np.random.shuffle(jackson_samples)\n",
    "\n",
    "# Subplot of some George and Jackson frequency spectra\n",
    "fig, axs = plt.subplots(4, 2)\n",
    "axs[0, 0].set_title(\"George\")\n",
    "axs[0, 1].set_title(\"Jackson\")\n",
    "for i in range(4):\n",
    "    axs[i, 0].plot(X[george_samples[i]], color=\"b\")\n",
    "    axs[i, 1].plot(X[jackson_samples[i]], color=\"r\")\n",
    "\n",
    "for ax in axs.flat:\n",
    "    ax.set(xlabel=\"Frequency (Hz)\")\n",
    "    ax.grid()\n",
    "\n",
    "for ax in axs.flat:\n",
    "    ax.label_outer()"
   ]
  },
  {
   "cell_type": "markdown",
   "metadata": {
    "deletable": false,
    "editable": false,
    "nbgrader": {
     "cell_type": "markdown",
     "checksum": "f90fdea6f3c7da16788cec1dd58ccc65",
     "grade": false,
     "grade_id": "cell-3663b83d93ceaa9d",
     "locked": true,
     "schema_version": 3,
     "solution": false,
     "task": false
    }
   },
   "source": [
    "There are differences between clips from George and Jackson. Notice that George has some higher frequencies in his voice than Jackson does. However, the unnormalised magnitudes are problematic. Some frequencies have values in the millions! We should standardise this data so that they don't dominate later on."
   ]
  },
  {
   "cell_type": "markdown",
   "metadata": {
    "deletable": false,
    "editable": false,
    "nbgrader": {
     "cell_type": "markdown",
     "checksum": "fa5dfd666a4225e88f4afce90d9448f9",
     "grade": false,
     "grade_id": "cell-870540c97e7d0e8d",
     "locked": true,
     "schema_version": 3,
     "solution": false,
     "task": false
    }
   },
   "source": [
    "<hr style=\"border:2px solid blue\"> </hr>\n",
    "\n",
    "\n",
    "**Q3: Create a dataset matrix $\\mathbf{X}_s$ that is a standardised version of $\\mathbf{X}$. Assign it to a variable called `X_s`.**\n",
    "\n",
    "**[2 marks]**"
   ]
  },
  {
   "cell_type": "code",
   "execution_count": 17,
   "metadata": {
    "deletable": false,
    "nbgrader": {
     "cell_type": "code",
     "checksum": "bbc72c338ba12e127a7b6307d3a4c627",
     "grade": false,
     "grade_id": "q3",
     "locked": false,
     "schema_version": 3,
     "solution": true,
     "task": false
    }
   },
   "outputs": [
    {
     "name": "stdout",
     "output_type": "stream",
     "text": [
      "[[ 0.88063463  7.44423706  8.81487315 ... -0.4482109  -0.39252151\n",
      "  -0.30709852]\n",
      " [ 0.49794575  0.0965983  -0.51937957 ... -0.49421396 -0.49425867\n",
      "  -0.44523056]\n",
      " [ 1.03797883 -0.20050024 -0.21243196 ... -0.46730102 -0.45222632\n",
      "  -0.43217267]\n",
      " ...\n",
      " [-0.66451518 -0.61738951 -0.15957495 ... -0.2516819  -0.15386824\n",
      "  -0.10137266]\n",
      " [-1.19213941 -0.47854335 -0.15521751 ...  0.05863939  0.50098363\n",
      "   0.36295072]\n",
      " [-1.1966066   0.29381343 -0.18613918 ...  1.58127615  1.56626551\n",
      "   1.43433819]]\n"
     ]
    }
   ],
   "source": [
    "\"\"\"Write your solution here. You must use the correct variable name to get marks.\"\"\"\n",
    "from sklearn.preprocessing import StandardScaler\n",
    "\n",
    "scaler = StandardScaler()\n",
    "\n",
    "X_s = scaler.fit_transform(X, 1e-8) # Standardise\n",
    "\n",
    "# column_means = X.mean(0) # This means take the mean across columns\n",
    "# column_stds = X.std(0) # This means take the std across columns\n",
    "\n",
    "# # Standardise\n",
    "# eps = 1e-8\n",
    "# X_s = (X - column_means)/(column_stds + eps) # Standardise\n",
    "print(X_s)"
   ]
  },
  {
   "cell_type": "code",
   "execution_count": 18,
   "metadata": {
    "deletable": false,
    "editable": false,
    "nbgrader": {
     "cell_type": "code",
     "checksum": "69921380b643682ff98fd842d3fa47eb",
     "grade": true,
     "grade_id": "q3_test",
     "locked": true,
     "points": 2,
     "schema_version": 3,
     "solution": false,
     "task": false
    }
   },
   "outputs": [
    {
     "data": {
      "text/plain": [
       "'Please pay no attention to this cell'"
      ]
     },
     "execution_count": 18,
     "metadata": {},
     "output_type": "execute_result"
    }
   ],
   "source": [
    "\"\"\"Please pay no attention to this cell\"\"\"\n"
   ]
  },
  {
   "cell_type": "markdown",
   "metadata": {
    "deletable": false,
    "editable": false,
    "nbgrader": {
     "cell_type": "markdown",
     "checksum": "03a6d3839a3960151395c019b20437a5",
     "grade": false,
     "grade_id": "cell-b87e1b6b6dcd5183",
     "locked": true,
     "schema_version": 3,
     "solution": false,
     "task": false
    }
   },
   "source": [
    "<hr style=\"border:2px solid blue\"> </hr>\n",
    "\n"
   ]
  },
  {
   "cell_type": "markdown",
   "metadata": {
    "deletable": false,
    "editable": false,
    "nbgrader": {
     "cell_type": "markdown",
     "checksum": "184accc60dce29f3815e1cdbf1a5a528",
     "grade": false,
     "grade_id": "cell-2c8b7c4878bfea00",
     "locked": true,
     "schema_version": 3,
     "solution": false,
     "task": false
    }
   },
   "source": [
    "### 2. Principal Component Analysis (PCA)\n",
    "\n",
    "Our data points exist in 4001-D dimensions. This is quite big, and we can't visualise the dataset as a whole. We can turn to PCA to reduce our data to a lower dimensional space, while retaining as much variation as possible.\n",
    "\n",
    "In short, we want to form a reduced dimensionality dataset $\\mathbf{X}_d\\in \\mathbb{R}^{1000\\times d}$ where $d<4001$.\n",
    "\n",
    "To perform PCA to reduce a standardised dataset $\\mathbf{X}_{s}$ to $d$ dimensions:\n",
    "1. Form $\\mathbf{\\Sigma} =\\frac{1}{N}\\mathbf{X^T}_{s}\\mathbf{X}_{s}$\n",
    "2. Compute the eigenvalues/vectors of $\\mathbf{\\Sigma}$ ensuring that they are unit norm.\n",
    "3. Form the matrix $\\mathbf{W}$ that consists of $d$ columns which are the first $d$ eigenvectors of $\\mathbf{\\Sigma}$\n",
    "4. Compute  $\\mathbf{X}_{d}=\\mathbf{X}_{s}$$\\mathbf{W}$  "
   ]
  },
  {
   "cell_type": "markdown",
   "metadata": {
    "deletable": false,
    "editable": false,
    "nbgrader": {
     "cell_type": "markdown",
     "checksum": "993f4dc81e7b08ea78f6a42bd321195e",
     "grade": false,
     "grade_id": "cell-b13e961c2addcf70",
     "locked": true,
     "schema_version": 3,
     "solution": false,
     "task": false
    }
   },
   "source": [
    "However, in this case $\\mathbf{\\Sigma}$ is a 4001 by 4001 matrix, and eigendecomposing this is fairly expensive. We will load in the first **10** pre-computed eigenvalues/vectors of $\\mathbf{\\Sigma}$ to save time. However, the code used to produce these is given below for completeness:\n",
    "\n",
    "```\n",
    "# The following code was used to get these eigenvalues and eigenvectors.\n",
    "# It is expensive to run and takes a few minutes. You do not need to run it!\n",
    "\n",
    "Sigma = (1 / 1000) * X_s.T @ X_s\n",
    "eigenvalues, eigenvectors = np.linalg.eig(Sigma)\n",
    "\n",
    "# Take the real parts\n",
    "eigenvalues = np.real(eigenvalues)\n",
    "eigenvectors = np.real(eigenvectors)\n",
    "\n",
    "# Keep the first 10 eigenvalues/vectors\n",
    "eigenvalues = eigenvalues[0:10]\n",
    "eigenvectors = eigenvectors[:, 0:10]\n",
    "```"
   ]
  },
  {
   "cell_type": "code",
   "execution_count": 19,
   "metadata": {
    "deletable": false,
    "editable": false,
    "nbgrader": {
     "cell_type": "code",
     "checksum": "6fad50f8a0d1a145fb6873adf0072166",
     "grade": false,
     "grade_id": "cell-244963efad943742",
     "locked": true,
     "schema_version": 3,
     "solution": false,
     "task": false
    }
   },
   "outputs": [],
   "source": [
    "import numpy as np\n",
    "\n",
    "eigenvalues = np.load(\"npy/Sigma_eigenvalues.npy\")\n",
    "eigenvectors = np.load(\"npy/Sigma_eigenvectors.npy\")"
   ]
  },
  {
   "cell_type": "markdown",
   "metadata": {
    "deletable": false,
    "editable": false,
    "nbgrader": {
     "cell_type": "markdown",
     "checksum": "f3957bfb1112be888052be2233d43df3",
     "grade": false,
     "grade_id": "cell-10c63aa05a9d63d2",
     "locked": true,
     "schema_version": 3,
     "solution": false,
     "task": false
    }
   },
   "source": [
    "<hr style=\"border:2px solid blue\"> </hr>\n",
    "\n",
    "\n",
    "**Q4: Use these eigenvectors to form the matrix $\\mathbf{W}$ to transform our dataset for $d=2$. Perform this transformation to create $\\mathbf{X}_{d}$ and assign it to a variable `X_d`. Then, produce a scatter plot of the transformed dataset with the two classes in different colours.**\n",
    "\n",
    "*Hint: You will need to use `y` to determine which data points belong to which class (speaker).*\n",
    "\n",
    "**[3 marks]**\n"
   ]
  },
  {
   "cell_type": "code",
   "execution_count": 36,
   "metadata": {
    "deletable": false,
    "nbgrader": {
     "cell_type": "code",
     "checksum": "766444e8a2783d8c89bfde56dbee4911",
     "grade": true,
     "grade_id": "q4",
     "locked": false,
     "points": 3,
     "schema_version": 3,
     "solution": true,
     "task": false
    }
   },
   "outputs": [
    {
     "data": {
      "text/plain": [
       "<matplotlib.legend.Legend at 0x7f7632cfea30>"
      ]
     },
     "execution_count": 36,
     "metadata": {},
     "output_type": "execute_result"
    },
    {
     "data": {
      "image/png": "[encoded data removed]",
      "text/plain": [
       "<Figure size 576x576 with 1 Axes>"
      ]
     },
     "metadata": {
      "needs_background": "light"
     },
     "output_type": "display_data"
    }
   ],
   "source": [
    "\"\"\"Write your solution here\"\"\"\n",
    "\n",
    "W = eigenvectors[:, :2]\n",
    "X_d = X_s.dot(W)\n",
    "\n",
    "fig, ax = plt.subplots(figsize=[8, 8])\n",
    "\n",
    "ax.scatter(X_d[y == 0, 0], X_d[y == 0, 1], color=\"b\")\n",
    "ax.scatter(X_d[y == 1, 0], X_d[y == 1, 1], color=\"g\")\n",
    "\n",
    "# Label axes and include a legend\n",
    "ax.set_xlabel(\"Projected dimension 1\")\n",
    "ax.set_ylabel(\"Projected dimension 2\")\n",
    "ax.legend(['george', 'jackson'])\n"
   ]
  },
  {
   "cell_type": "markdown",
   "metadata": {
    "deletable": false,
    "editable": false,
    "nbgrader": {
     "cell_type": "markdown",
     "checksum": "da103de32f6b8cf98ab16765bcaf92e8",
     "grade": false,
     "grade_id": "cell-d75a2151e6607618",
     "locked": true,
     "schema_version": 3,
     "solution": false,
     "task": false
    }
   },
   "source": [
    "<hr style=\"border:2px solid blue\"> </hr>\n",
    "\n"
   ]
  },
  {
   "cell_type": "markdown",
   "metadata": {
    "deletable": false,
    "editable": false,
    "nbgrader": {
     "cell_type": "markdown",
     "checksum": "e9f61d1d24f53a13072ec67ce9b639e5",
     "grade": false,
     "grade_id": "cell-ad32405cf8de4c75",
     "locked": true,
     "schema_version": 3,
     "solution": false,
     "task": false
    }
   },
   "source": [
    "Hopefully you can see that in 2D, our data points from our two speakers lie in largely distinct regions of space. Recall that linear and classifiers work by finding a line to separate data from the two classes.\n",
    "\n",
    "Before we learn the classifiers, however, there is the matter of splitting the dataset into training, validation, and test sets (as well as performing some post-PCA standardisation). This will all be done in the code block below."
   ]
  },
  {
   "cell_type": "code",
   "execution_count": 21,
   "metadata": {
    "deletable": false,
    "editable": false,
    "nbgrader": {
     "cell_type": "code",
     "checksum": "8c0730affa0c038840773a190aaec3b8",
     "grade": false,
     "grade_id": "cell-156e9caedd84238e",
     "locked": true,
     "schema_version": 3,
     "solution": false,
     "task": false
    }
   },
   "outputs": [],
   "source": [
    "# Re-normalise data (small numbers are nicer)\n",
    "X_d = (X_d - X_d.mean(0)) / (X_d.std(0) + 1e-8)\n",
    "\n",
    "# Split into train/val/test at ratio 400/200/400\n",
    "\n",
    "np.random.seed(42)  # Set a random seed\n",
    "indices = np.array([i for i in range(1000)])  # The numbers 0-999\n",
    "np.random.shuffle(indices)  # Shuffle data before splitting.\n",
    "\n",
    "X_train = X_d[indices[0:400]]\n",
    "X_val = X_d[indices[400:600]]\n",
    "X_test = X_d[indices[600:]]\n",
    "\n",
    "y_train = y[indices[0:400]]\n",
    "y_val = y[indices[400:600]]\n",
    "y_test = y[indices[600:]]"
   ]
  },
  {
   "cell_type": "markdown",
   "metadata": {
    "deletable": false,
    "editable": false,
    "nbgrader": {
     "cell_type": "markdown",
     "checksum": "0963590e308b8ede4231b88054d72b90",
     "grade": false,
     "grade_id": "cell-ebc1b67996609955",
     "locked": true,
     "schema_version": 3,
     "solution": false,
     "task": false
    }
   },
   "source": [
    "We now have variables `X_train`, `y_train` that contain the data points and class labels for the training set.\n",
    "\n",
    "Similarly we have  `X_val`, `y_val` for validation, and  `X_test`, `y_test` for test.\n",
    "\n",
    "<div class=\"alert alert-danger\">\n",
    "<b>It is important that you have the correct arrays for the rest of the notebook. If you are not confident that yours are correct, then you may uncomment and run the cell below to get the correct ones.</b>\n",
    "</div>"
   ]
  },
  {
   "cell_type": "code",
   "execution_count": 22,
   "metadata": {},
   "outputs": [],
   "source": [
    "# del X_train, X_val, X_test, y_train, y_val, y_test\n",
    "# X_train = np.load(\"npy/X_train.npy\")\n",
    "# X_val = np.load(\"npy/X_val.npy\")\n",
    "# X_test = np.load(\"npy/X_test.npy\")\n",
    "# y_train = np.load(\"npy/y_train.npy\")\n",
    "# y_val = np.load(\"npy/y_val.npy\")\n",
    "# y_test = np.load(\"npy/y_test.npy\")\n"
   ]
  },
  {
   "cell_type": "markdown",
   "metadata": {
    "deletable": false,
    "editable": false,
    "nbgrader": {
     "cell_type": "markdown",
     "checksum": "e86ecf9ef2dc12bbfb01ef5af4da38cb",
     "grade": false,
     "grade_id": "cell-4cb1afc4502db158",
     "locked": true,
     "schema_version": 3,
     "solution": false,
     "task": false
    }
   },
   "source": [
    "### 3. $k$-Nearest Neighbour ($k$-NN) classification\n"
   ]
  },
  {
   "cell_type": "markdown",
   "metadata": {
    "deletable": false,
    "editable": false,
    "nbgrader": {
     "cell_type": "markdown",
     "checksum": "edc9a7c89962917f21b04e07fa0f87e2",
     "grade": false,
     "grade_id": "cell-4a2bff116c24605d",
     "locked": true,
     "schema_version": 3,
     "solution": false,
     "task": false
    }
   },
   "source": [
    "The simplest classifier is a $k$-Nearest Neighbours classifier. This does not have any parameters, and has a single hyperparameter $k$.\n",
    "\n",
    "To classify a new point $\\mathbf{x}^{(t)}$:\n",
    "    \n",
    "1. Compute the L2 distance between $\\mathbf{x}^{(t)}$ and each training point\n",
    "2. Identify the $k$ closest points to $\\mathbf{x}^{(t)}$ - those with the lowest L2 distances from it\n",
    "3. Assign $\\mathbf{x}^{(t)}$ to the most prevalent class of its nearest neighbours\n",
    "\n",
    "Let's briefly recap what our data splits are used for.\n",
    "\n",
    "- **Training set**: This is used for training the parameters of the classifier. ($k$-NN has no parameters, but the training set is used to compute nearest neighbours)\n",
    "\n",
    "- **Validation set**: This is used to calibrate the hyperparameters of the classifier.\n",
    "\n",
    "- **Test set**: This is used to evaluate the classifier.\n",
    "\n",
    "**Important:** The whole reason we are learning a classifier is so it can be applied to new data, and we use the test data to simulate this scenario. This is why we use the training set to learn parameters, and the validation set to calibrate hyperparameters. **We are not allowed to train or calibrate on the test set**, as we would not have access to new data in real life. \n"
   ]
  },
  {
   "cell_type": "markdown",
   "metadata": {
    "deletable": false,
    "editable": false,
    "nbgrader": {
     "cell_type": "markdown",
     "checksum": "7133b5d8147b9a5b3bdad76193132148",
     "grade": false,
     "grade_id": "cell-26dbd392dca3e248",
     "locked": true,
     "schema_version": 3,
     "solution": false,
     "task": false
    }
   },
   "source": [
    "<hr style=\"border:2px solid blue\"> </hr>\n",
    "\n",
    "\n",
    "**Q5: Perform $k$-NN classification on the validation set using the training set for $k=1$, $k=3$ and $k=13$. Compute validation accuracy as a percentage for each of these, and assign these values to the variables `val_k1`, `val_k3` and `val_k13` respectively.**\n",
    "\n",
    "\n",
    "**[3 marks]**"
   ]
  },
  {
   "cell_type": "code",
   "execution_count": 23,
   "metadata": {
    "deletable": false,
    "nbgrader": {
     "cell_type": "code",
     "checksum": "286c8e46e8e90ab723e5e5c8c9ae4499",
     "grade": false,
     "grade_id": "q5",
     "locked": false,
     "schema_version": 3,
     "solution": true,
     "task": false
    }
   },
   "outputs": [],
   "source": [
    "\"\"\"Write your solution here. You must use the correct variable names to get marks.\"\"\"\n",
    "\n",
    "from sklearn.neighbors import KNeighborsClassifier\n",
    "from sklearn.metrics import accuracy_score\n",
    "\n",
    "# create an instance of KNeighborsClassifier with k=1\n",
    "k1 = KNeighborsClassifier(n_neighbors=1)\n",
    "\n",
    "# fit the classifier on the training set\n",
    "k1.fit(X_train, y_train)\n",
    "\n",
    "# predict the labels of the validation set using the fitted classifier\n",
    "y_pred_k1 = k1.predict(X_val)\n",
    "\n",
    "# compute the validation accuracy for k=1\n",
    "val_k1 = accuracy_score(y_val, y_pred_k1)*100\n",
    "\n",
    "# create an instance of KNeighborsClassifier with k=3\n",
    "k3 = KNeighborsClassifier(n_neighbors=3)\n",
    "\n",
    "# fit the classifier on the training set\n",
    "k3.fit(X_train, y_train)\n",
    "\n",
    "# predict the labels of the validation set using the fitted classifier\n",
    "y_pred_k3 = k3.predict(X_val)\n",
    "\n",
    "# compute the validation accuracy for k=3\n",
    "val_k3 = accuracy_score(y_val, y_pred_k3)*100\n",
    "\n",
    "# create an instance of KNeighborsClassifier with k=13\n",
    "k13 = KNeighborsClassifier(n_neighbors=13)\n",
    "\n",
    "# fit the classifier on the training set\n",
    "k13.fit(X_train, y_train)\n",
    "\n",
    "# predict the labels of the validation set using the fitted classifier\n",
    "y_pred_k13 = k13.predict(X_val)\n",
    "\n",
    "# compute the validation accuracy for k=13\n",
    "val_k13 = accuracy_score(y_val, y_pred_k13)*100\n",
    "\n",
    "# print the validation accuracies\n"
   ]
  },
  {
   "cell_type": "code",
   "execution_count": 24,
   "metadata": {
    "deletable": false,
    "editable": false,
    "nbgrader": {
     "cell_type": "code",
     "checksum": "2b57e6db16106b4a852fe4801d48d64f",
     "grade": true,
     "grade_id": "q5_test1",
     "locked": true,
     "points": 1,
     "schema_version": 3,
     "solution": false,
     "task": false
    }
   },
   "outputs": [
    {
     "name": "stdout",
     "output_type": "stream",
     "text": [
      "val_k1 = 93.5\n"
     ]
    }
   ],
   "source": [
    "\"\"\"You can run this cell to check your val_k1 value\"\"\"\n",
    "try:\n",
    "    print(f\"val_k1 = {val_k1}\")\n",
    "except NameError:\n",
    "    print(\"The variable val_k1 does not exist\")\n"
   ]
  },
  {
   "cell_type": "code",
   "execution_count": 25,
   "metadata": {
    "deletable": false,
    "editable": false,
    "nbgrader": {
     "cell_type": "code",
     "checksum": "61a06c18a492508ead7ee142561b7c0a",
     "grade": true,
     "grade_id": "q5_test2",
     "locked": true,
     "points": 1,
     "schema_version": 3,
     "solution": false,
     "task": false
    }
   },
   "outputs": [
    {
     "name": "stdout",
     "output_type": "stream",
     "text": [
      "val_k3 = 95.5\n"
     ]
    }
   ],
   "source": [
    "\"\"\"You can run this cell to check your val_k3 value\"\"\"\n",
    "try:\n",
    "    print(f\"val_k3 = {val_k3}\")\n",
    "except NameError:\n",
    "    print(\"The variable val_k3 does not exist\")"
   ]
  },
  {
   "cell_type": "code",
   "execution_count": 26,
   "metadata": {
    "deletable": false,
    "editable": false,
    "nbgrader": {
     "cell_type": "code",
     "checksum": "2012b1c2d3d48689d0e93fc47c512c45",
     "grade": true,
     "grade_id": "q5_test3",
     "locked": true,
     "points": 1,
     "schema_version": 3,
     "solution": false,
     "task": false
    }
   },
   "outputs": [
    {
     "name": "stdout",
     "output_type": "stream",
     "text": [
      "val_k13 = 96.0\n"
     ]
    }
   ],
   "source": [
    "\"\"\"You can run this cell to check your val_k13 value\"\"\"\n",
    "try:\n",
    "    print(f\"val_k13 = {val_k13}\")\n",
    "except NameError:\n",
    "    print(\"The variable val_k13 does not exist\")"
   ]
  },
  {
   "cell_type": "markdown",
   "metadata": {
    "deletable": false,
    "editable": false,
    "nbgrader": {
     "cell_type": "markdown",
     "checksum": "8ae6423702158c11b361dbdaa1482c3b",
     "grade": false,
     "grade_id": "cell-a06728ee24e6bb7d",
     "locked": true,
     "schema_version": 3,
     "solution": false,
     "task": false
    }
   },
   "source": [
    "<hr style=\"border:2px solid blue\"> </hr>\n",
    "\n",
    "\n",
    "**Q6: Perform $k$-NN classification on the test set using the training set for the value of $k$ above with the highest validation accuracy. Compute test accuracy as a percentage and assign the value to the variable `test_acc`**.\n",
    "    \n",
    "    \n",
    "\n",
    "\n",
    "**[1 mark]**"
   ]
  },
  {
   "cell_type": "code",
   "execution_count": 27,
   "metadata": {
    "deletable": false,
    "nbgrader": {
     "cell_type": "code",
     "checksum": "251896dfe1c7dd0ab5237580f701b4e3",
     "grade": false,
     "grade_id": "q6",
     "locked": false,
     "schema_version": 3,
     "solution": true,
     "task": false
    }
   },
   "outputs": [],
   "source": [
    "\"\"\"Write your solution here. You must use the correct variable name to get marks.\"\"\"\n",
    "# I use the K value of 13 because that was the best validation accuracy result from above\n",
    "\n",
    "# create an instance of KNeighborsClassifier with k=13\n",
    "k_best = KNeighborsClassifier(n_neighbors=13)\n",
    "\n",
    "# fit the classifier on the training set\n",
    "k_best.fit(X_train, y_train)\n",
    "\n",
    "# predict the labels of the test set using the fitted classifier\n",
    "y_pred_k_best = k_best.predict(X_test)\n",
    "\n",
    "# compute the test accuracy for k=13\n",
    "test_acc = accuracy_score(y_test, y_pred_k_best)*100\n"
   ]
  },
  {
   "cell_type": "code",
   "execution_count": 28,
   "metadata": {
    "deletable": false,
    "editable": false,
    "nbgrader": {
     "cell_type": "code",
     "checksum": "6827af47bc407ac3912f713a6faa314b",
     "grade": true,
     "grade_id": "q6_test",
     "locked": true,
     "points": 1,
     "schema_version": 3,
     "solution": false,
     "task": false
    }
   },
   "outputs": [
    {
     "name": "stdout",
     "output_type": "stream",
     "text": [
      "test_acc = 97.5\n"
     ]
    }
   ],
   "source": [
    "\"\"\"You can run this cell to check your test_acc value\"\"\"\n",
    "try:\n",
    "    print(f\"test_acc = {test_acc}\")\n",
    "except NameError:\n",
    "    print(\"The variable test_acc does not exist\")"
   ]
  },
  {
   "cell_type": "markdown",
   "metadata": {
    "deletable": false,
    "editable": false,
    "nbgrader": {
     "cell_type": "markdown",
     "checksum": "32bcfed93d9c86faa49b8615e94945ea",
     "grade": false,
     "grade_id": "cell-2901e0a0f1658c17",
     "locked": true,
     "schema_version": 3,
     "solution": false,
     "task": false
    }
   },
   "source": [
    "<hr style=\"border:2px solid blue\"> </hr>"
   ]
  },
  {
   "cell_type": "markdown",
   "metadata": {
    "deletable": false,
    "editable": false,
    "nbgrader": {
     "cell_type": "markdown",
     "checksum": "35ebf2f332801255b7d38b34d5fa5500",
     "grade": false,
     "grade_id": "cell-ea0d3377a5ed5143",
     "locked": true,
     "schema_version": 3,
     "solution": false,
     "task": false
    }
   },
   "source": [
    "### 4. Linear Classification\n",
    "\n",
    "A linear classifier looks like $f(\\mathbf{x}) = \\mathbf{w}^\\top \\mathbf{x}+b $ where $\\mathbf{w}\\in \\mathbb{R}^{D}$  are the learnable weight parameters, and $b \\in \\mathbb{R}^{1}$ is a learnable bias parameter. It can take in some data point $\\mathbf{x}$ and then its output $f(\\mathbf{x})$ can be used to make a class prediction according to some threshold function like \n",
    "\n",
    "$$\\hat{y}=\\begin{cases}\n",
    "          1 \\quad &\\text{if} \\, f(\\mathbf{x}) \\geq t \\\\\n",
    "          0 \\quad &\\text{if} \\, f(\\mathbf{x})<t \\\\\n",
    "     \\end{cases}$$\n",
    "     \n",
    "However, the weights and bias need to be learnt. This is done by solving $\\underset{\\mathbf{w},b}{\\mathrm{minimise }}\\ L$ where $L$ is some loss function. \n",
    "\n",
    "In this assignment, we are interested in minimising the cross entropy loss $L_{CE} =- \\frac{1}{N}\\sum_{n=1} ^{N} \\Big[y^{(n)} \\log \\sigma(f(\\mathbf{x}^{(n)}))+({1-y^{(n)}})\\log(1- \\sigma(f(\\mathbf{x}^{(n)}))\\Big]$ where $\\sigma$ is the sigmoid function. Minimising this loss function is performing *logistic regression*."
   ]
  },
  {
   "cell_type": "markdown",
   "metadata": {
    "deletable": false,
    "editable": false,
    "nbgrader": {
     "cell_type": "markdown",
     "checksum": "780b34e6fc8516508daf63e56f765b79",
     "grade": false,
     "grade_id": "cell-7109f1e6900d1978",
     "locked": true,
     "schema_version": 3,
     "solution": false,
     "task": false
    }
   },
   "source": [
    "<hr style=\"border:2px solid blue\"> </hr>\n",
    "\n",
    "**Q6 Train a linear classifier by performing logistic regression. Use $\\alpha = 0.1$ for 500 iterations. You do not need to use the validation set for this question. Print the test accuracy and comment on how it compares to your $k$-NN result above.**\n",
    "\n",
    "**[4 marks]**"
   ]
  },
  {
   "cell_type": "code",
   "execution_count": 32,
   "metadata": {
    "deletable": false,
    "nbgrader": {
     "cell_type": "code",
     "checksum": "3e419d4184613071f43704ad8eb9a292",
     "grade": true,
     "grade_id": "q7_big",
     "locked": false,
     "points": 4,
     "schema_version": 3,
     "solution": true,
     "task": false
    }
   },
   "outputs": [
    {
     "name": "stdout",
     "output_type": "stream",
     "text": [
      "Test Accuracy: 96.5\n"
     ]
    }
   ],
   "source": [
    "\"\"\"Write your solution here\"\"\"\n",
    "# I created a linear classifier class below that performs logistic regression on the training data set that is inputted into the\n",
    "# fit() method below. It has a constructor class with alpha and num_iters params which plays a crucial role in determining the \n",
    "# accuracy resul tin the end. More numbe of iterators, the higher the accurcy score.\n",
    "class LinearClassifier:\n",
    "    def __init__(self, alpha, num_iters): # Constructor with alpha and num_iters\n",
    "        self.alpha = alpha\n",
    "        self.num_iters = num_iters\n",
    "        self.weights = None\n",
    "    \n",
    "    def sigmoid(self, z): # method that does the sigmoid function\n",
    "        return 1 / (1 + np.exp(-z))\n",
    "    \n",
    "    def add_bias_term(self, X): # Adds the bias term to the training data set that is inputed\n",
    "        return np.insert(X, 0, 1, axis=1)\n",
    "    \n",
    "    def fit(self, X, y): # Input the trainnig data sets to have logistic regeression perfomed on them based on the num_iters and alpha\n",
    "        # Add bias term to X\n",
    "        X = self.add_bias_term(X)\n",
    "        \n",
    "        # Initialize weights randomly\n",
    "        np.random.seed(42)\n",
    "        self.weights = np.random.randn(X.shape[1])\n",
    "        \n",
    "        # Gradient descent to minimize loss\n",
    "        for i in range(self.num_iters):\n",
    "            z = np.dot(X, self.weights)\n",
    "            y_hat = self.sigmoid(z)\n",
    "            error = y_hat - y\n",
    "            gradient = np.dot(X.T, error) / y.size\n",
    "            self.weights -= self.alpha * gradient\n",
    "    \n",
    "    def predict(self, X):\n",
    "        # Add bias term to X\n",
    "        X = self.add_bias_term(X)\n",
    "        \n",
    "        # Predict class labels using learned weights\n",
    "        y_hat = self.sigmoid(np.dot(X, self.weights))\n",
    "        return (y_hat >= 0.5).astype(int)\n",
    "\n",
    "\n",
    "\n",
    "clf = LinearClassifier(0.1, 500)\n",
    "clf.fit(X_train, y_train)\n",
    "\n",
    "# Predict the labels for the testing data\n",
    "y_pred = clf.predict(X_test)\n",
    "\n",
    "# Print the accuracy of the model\n",
    "test_accuracy = np.mean(y_pred == y_test)*100\n",
    "print(\"Test Accuracy:\", test_accuracy)\n",
    "\n",
    "'''The test accuracy after performing the logistic regression is 1% lower than that perfmoed by the K-NN classifiers on the X_test set\n",
    "Logistic regression is linear while k-nn looks for the lcosest neighbours so it works best for more complex data sets such as this one. '''"
   ]
  },
  {
   "cell_type": "markdown",
   "metadata": {
    "deletable": false,
    "editable": false,
    "nbgrader": {
     "cell_type": "markdown",
     "checksum": "10f2a857475d4420d6f78e9e3d914765",
     "grade": false,
     "grade_id": "cell-416d4833905e7547",
     "locked": true,
     "schema_version": 3,
     "solution": false,
     "task": false
    }
   },
   "source": [
    "<hr style=\"border:2px solid blue\"> </hr>\n",
    "\n",
    "\n",
    "**Q7: Plot the decision boundary of your classifier alongside the test data.**\n",
    "\n",
    "\n",
    "**[3 marks]**"
   ]
  },
  {
   "cell_type": "code",
   "execution_count": 38,
   "metadata": {
    "deletable": false,
    "nbgrader": {
     "cell_type": "code",
     "checksum": "7c0e5568977778d002bedf15da390f9f",
     "grade": true,
     "grade_id": "q7",
     "locked": false,
     "points": 3,
     "schema_version": 3,
     "solution": true,
     "task": false
    }
   },
   "outputs": [
    {
     "data": {
      "image/png": "[encoded data removed]",
      "text/plain": [
       "<Figure size 720x720 with 1 Axes>"
      ]
     },
     "metadata": {
      "needs_background": "light"
     },
     "output_type": "display_data"
    }
   ],
   "source": [
    "\"\"\"Write your solution here\"\"\"\n",
    "# Compute decision boundary using learned weights\n",
    "w = clf.weights\n",
    "x1 = np.linspace(-2, 5, 10)\n",
    "x2 = -(w[0] + w[1]*x1) / w[2]\n",
    "\n",
    "# Plot the data points and decision boundary\n",
    "fig, ax = plt.subplots(figsize=(10, 10))\n",
    "ax.scatter(X_test[:, 0], X_test[:, 1], c=y_test, cmap='bwr', alpha=0.7)\n",
    "ax.plot(x1, x2, '-g', label='Decision Boundary')\n",
    "ax.set_xlabel('projected dimension 1')\n",
    "ax.set_ylabel('projected dimesion 2')\n",
    "ax.legend()\n",
    "plt.show()\n"
   ]
  },
  {
   "cell_type": "markdown",
   "metadata": {
    "deletable": false,
    "editable": false,
    "nbgrader": {
     "cell_type": "markdown",
     "checksum": "8a46259d364bc36158ec7df8b1760f91",
     "grade": false,
     "grade_id": "cell-5b1e2d121fa9c4d6",
     "locked": true,
     "schema_version": 3,
     "solution": false,
     "task": false
    }
   },
   "source": [
    "<hr style=\"border:2px solid blue\"> </hr>\n",
    "\n"
   ]
  },
  {
   "cell_type": "markdown",
   "metadata": {
    "deletable": false,
    "editable": false,
    "nbgrader": {
     "cell_type": "markdown",
     "checksum": "ff758883e948d88bc99a71a8f0ec9675",
     "grade": false,
     "grade_id": "cell-5e60e7039bd4939e",
     "locked": true,
     "schema_version": 3,
     "solution": false,
     "task": false
    }
   },
   "source": [
    "**End of Assignment**\n"
   ]
  }
 ],
 "metadata": {
  "kernelspec": {
   "display_name": "Python 3 (ipykernel)",
   "language": "python",
   "name": "python3"
  },
  "language_info": {
   "codemirror_mode": {
    "name": "ipython",
    "version": 3
   },
   "file_extension": ".py",
   "mimetype": "text/x-python",
   "name": "python",
   "nbconvert_exporter": "python",
   "pygments_lexer": "ipython3",
   "version": "3.9.13"
  }
 },
 "nbformat": 4,
 "nbformat_minor": 4
}
